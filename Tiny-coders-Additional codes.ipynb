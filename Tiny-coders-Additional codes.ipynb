{
 "cells": [
  {
   "cell_type": "markdown",
   "id": "c940f817",
   "metadata": {},
   "source": [
    "# 1. Uniform & Observed Distribution"
   ]
  },
  {
   "cell_type": "code",
   "execution_count": 4,
   "id": "a29334ed",
   "metadata": {},
   "outputs": [
    {
     "data": {
      "image/png": "[encoded data removed]",
      "text/plain": [
       "<Figure size 648x288 with 2 Axes>"
      ]
     },
     "metadata": {
      "needs_background": "light"
     },
     "output_type": "display_data"
    }
   ],
   "source": [
    "import numpy as np\n",
    "import matplotlib.pyplot as plt\n",
    "\n",
    "# creating a list of\n",
    "# uniformly distributed values\n",
    "uniform = np.arange(-100, 100)\n",
    "\n",
    "# creating a list of normally\n",
    "# distributed values\n",
    "normal = np.random.normal(size = 100)*30\n",
    "\n",
    "# creating figure and axes to\n",
    "# plot the image\n",
    "fig, (ax1, ax2) = plt.subplots(nrows = 1,ncols = 2,figsize =(9, 4),sharey = True)\n",
    "\n",
    "# plotting violin plot for\n",
    "# uniform distribution\n",
    "ax1.set_title('Uniform Distribution')\n",
    "ax1.set_ylabel('Observed values')\n",
    "ax1.violinplot(uniform)\n",
    "\n",
    "\n",
    "# plotting violin plot for\n",
    "# normal distribution\n",
    "ax2.set_title('Normal Distribution')\n",
    "ax2.violinplot(normal)\n",
    "\n",
    "# Function to show the plot\n",
    "plt.show()\n"
   ]
  },
  {
   "cell_type": "markdown",
   "id": "aaae8c28",
   "metadata": {},
   "source": [
    "# 2. Multiple Violin plots"
   ]
  },
  {
   "cell_type": "code",
   "execution_count": 5,
   "id": "b3577484",
   "metadata": {},
   "outputs": [
    {
     "data": {
      "image/png": "[encoded data removed]",
      "text/plain": [
       "<Figure size 432x288 with 1 Axes>"
      ]
     },
     "metadata": {
      "needs_background": "light"
     },
     "output_type": "display_data"
    }
   ],
   "source": [
    "import numpy as np\n",
    "import matplotlib.pyplot as plt\n",
    "from random import randint\n",
    "\n",
    "# Creating 3 empty lists\n",
    "l1 = []\n",
    "l2 =[]\n",
    "l3 =[]\n",
    "\n",
    "# Filling the lists with random value\n",
    "for i in range(100):\n",
    "\tn = randint(1, 100)\n",
    "\tl1.append(n)\n",
    "\t\n",
    "for i in range(100):\n",
    "\tn = randint(1, 100)\n",
    "\tl2.append(n)\n",
    "\t\n",
    "for i in range(100):\n",
    "\tn = randint(1, 100)\n",
    "\tl3.append(n)\n",
    "\n",
    "random_collection = [l1, l2, l3]\n",
    "\n",
    "# Create a figure instance\n",
    "fig = plt.figure()\n",
    "\n",
    "# Create an axes instance\n",
    "ax = fig.gca()\n",
    "\n",
    "# Create the violinplot\n",
    "violinplot = ax.violinplot(random_collection)\n",
    "plt.show()\n"
   ]
  },
  {
   "cell_type": "markdown",
   "id": "fbb9d48a",
   "metadata": {},
   "source": [
    "# 3. Python3 program to find number of days between two given dates\n"
   ]
  },
  {
   "cell_type": "code",
   "execution_count": 6,
   "id": "6567f0a0",
   "metadata": {},
   "outputs": [
    {
     "name": "stdout",
     "output_type": "stream",
     "text": [
      "74 days\n"
     ]
    }
   ],
   "source": [
    "from datetime import date\n",
    "\n",
    "def numOfDays(date1, date2):\n",
    "    return (date2-date1).days\n",
    "\n",
    "# Driver program\n",
    "date1 = date(2018, 12, 13)\n",
    "date2 = date(2019, 2, 25)\n",
    "print(numOfDays(date1, date2), \"days\")\n"
   ]
  },
  {
   "cell_type": "markdown",
   "id": "f6771edc",
   "metadata": {},
   "source": [
    "# 4. Program takes two datetime objects and finds the difference between them in minutes. \n"
   ]
  },
  {
   "cell_type": "code",
   "execution_count": 7,
   "id": "52ed0d06",
   "metadata": {},
   "outputs": [
    {
     "name": "stdout",
     "output_type": "stream",
     "text": [
      "Difference:  36 days, 10:04:20\n",
      "Total difference in minutes:  52444.0 minutes 20.0 seconds\n",
      "Total difference in minutes:  604 minutes 20 seconds\n"
     ]
    }
   ],
   "source": [
    "import datetime\n",
    "\n",
    "# datetime(year, month, day, hour, minute, second)\n",
    "a = datetime.datetime(2017, 6, 21, 18, 25, 30)\n",
    "b = datetime.datetime(2017, 5, 16, 8, 21, 10)\n",
    "\n",
    "# returns a timedelta object\n",
    "c = a-b\n",
    "print('Difference: ', c)\n",
    "\n",
    "# returns (minutes, seconds)\n",
    "minutes = divmod(c.total_seconds(), 60)\n",
    "print('Total difference in minutes: ', minutes[0], 'minutes', minutes[1], 'seconds')\n",
    "\n",
    "# returns the difference of the time of the day (minutes, seconds)\n",
    "minutes = divmod(c.seconds, 60)\n",
    "print('Total difference in minutes: ', minutes[0], 'minutes', minutes[1], 'seconds')\n"
   ]
  },
  {
   "cell_type": "markdown",
   "id": "3ebef26b",
   "metadata": {},
   "source": [
    "# 5. Program to calculate differences in dates using Timedelta function "
   ]
  },
  {
   "cell_type": "code",
   "execution_count": 12,
   "id": "aab55190",
   "metadata": {},
   "outputs": [
    {
     "name": "stdout",
     "output_type": "stream",
     "text": [
      "initial_date 2022-05-22 18:02:36.894184\n",
      "future_date_after_2yrs: 2024-05-21 18:02:36.894184\n",
      "future_date_after_2days: 2022-05-24 18:02:36.894184\n"
     ]
    }
   ],
   "source": [
    "from datetime import datetime, timedelta\n",
    "\n",
    "\n",
    "# Using current time\n",
    "ini_time_for_now = datetime.now()\n",
    "\n",
    "# printing initial_date\n",
    "print (\"initial_date\", str(ini_time_for_now))\n",
    "\n",
    "# Calculating future dates\n",
    "# for two years\n",
    "future_date_after_2yrs = ini_time_for_now + \\\n",
    "    timedelta(days = 730)\n",
    "\n",
    "future_date_after_2days = ini_time_for_now + \\\n",
    "    timedelta(days = 2)\n",
    "\n",
    "# printing calculated future_dates\n",
    "print('future_date_after_2yrs:', str(future_date_after_2yrs))\n",
    "print('future_date_after_2days:', str(future_date_after_2days))\n"
   ]
  },
  {
   "cell_type": "markdown",
   "id": "2fa1c71b",
   "metadata": {},
   "source": [
    "# 6. Python code to demonstrate the working of # logical_and(), logical_or(), logical_xor() and logical_invert()"
   ]
  },
  {
   "cell_type": "code",
   "execution_count": 13,
   "id": "801e99aa",
   "metadata": {},
   "outputs": [
    {
     "name": "stdout",
     "output_type": "stream",
     "text": [
      "The logical_and() of two numbers is : 1000\n",
      "The logical_or() of two numbers is : 1110\n",
      "The exclusive or of two numbers is : 110\n",
      "The logical inversion of number is : 1111111111111111111111110111\n"
     ]
    }
   ],
   "source": [
    "# importing \"decimal\" module to use decimal functions\n",
    "import decimal\n",
    "\n",
    "# Initializing decimal number\n",
    "a = decimal.Decimal(1000)\n",
    "\n",
    "# Initializing decimal number\n",
    "b = decimal.Decimal(1110)\n",
    "\n",
    "# printing logical_and of two numbers\n",
    "print (\"The logical_and() of two numbers is : \",end=\"\")\n",
    "print (a.logical_and(b))\n",
    "\n",
    "# printing logical_or of two numbers\n",
    "print (\"The logical_or() of two numbers is : \",end=\"\")\n",
    "print (a.logical_or(b))\n",
    "\n",
    "# printing exclusive or of two numbers\n",
    "print (\"The exclusive or of two numbers is : \",end=\"\")\n",
    "print (a.logical_xor(b))\n",
    "\n",
    "# printing logical inversion of number\n",
    "print (\"The logical inversion of number is : \",end=\"\")\n",
    "print (a.logical_invert())\n"
   ]
  },
  {
   "cell_type": "markdown",
   "id": "6381a68c",
   "metadata": {},
   "source": [
    "# 7. Python code to demonstrate the working of next_plus() and next_minus()"
   ]
  },
  {
   "cell_type": "code",
   "execution_count": 14,
   "id": "717b149c",
   "metadata": {},
   "outputs": [
    {
     "name": "stdout",
     "output_type": "stream",
     "text": [
      "The original number is : 101.340000000000003410605131648480892181396484375\n",
      "The smallest number larger than current number : 101.3400000000000034106051317\n",
      "The largest number smaller than current number : 101.3400000000000034106051316\n"
     ]
    }
   ],
   "source": [
    "\n",
    "# importing \"decimal\" module to use decimal functions\n",
    "import decimal\n",
    "\n",
    "# Initializing decimal number\n",
    "a = decimal.Decimal(101.34)\n",
    "\n",
    "# printing the actual decimal number\n",
    "print (\"The original number is : \",end=\"\")\n",
    "print (a)\n",
    "\n",
    "# printing number after using next_plus()\n",
    "print (\"The smallest number larger than current number : \",end=\"\")\n",
    "print (a.next_plus())\n",
    "\n",
    "# printing number after using next_minus()\n",
    "print (\"The largest number smaller than current number : \",end=\"\")\n",
    "print (a.next_minus())\n",
    "\n",
    "\n"
   ]
  },
  {
   "cell_type": "markdown",
   "id": "f901478e",
   "metadata": {},
   "source": [
    "# 8. Python code to demonstrate the working of next_toward() and normalize()\n"
   ]
  },
  {
   "cell_type": "code",
   "execution_count": 15,
   "id": "790580eb",
   "metadata": {},
   "outputs": [
    {
     "name": "stdout",
     "output_type": "stream",
     "text": [
      "The number closest to 1st number in direction of second number : \n",
      "101.3400000000000034106051316\n",
      "The second number with sign of first number is : -101.3400000000000034106051316\n",
      "Number after erasing rightmost trailing zeroes : 14.00999999999999978683717927\n"
     ]
    }
   ],
   "source": [
    "# importing \"decimal\" module to use decimal functions\n",
    "import decimal\n",
    "\n",
    "# Initializing decimal number\n",
    "a = decimal.Decimal(101.34)\n",
    "\n",
    "# Initializing decimal number\n",
    "b = decimal.Decimal(-101.34)\n",
    "\n",
    "# Initializing decimal number\n",
    "c = decimal.Decimal(-58.68)\n",
    "\n",
    "# Initializing decimal number\n",
    "d = decimal.Decimal(14.010000000)\n",
    "\n",
    "# printing the number using next_toward()\n",
    "print (\"The number closest to 1st number in direction of second number : \")\n",
    "print (a.next_toward(c))\n",
    "\n",
    "# printing the number using next_toward()\n",
    "# when equal\n",
    "print (\"The second number with sign of first number is : \",end=\"\")\n",
    "print (b.next_toward(a))\n",
    "\n",
    "# printing number after erasing rightmost trailing zeroes\n",
    "print (\"Number after erasing rightmost trailing zeroes : \",end=\"\")\n",
    "print (d.normalize())\n"
   ]
  },
  {
   "cell_type": "markdown",
   "id": "1ee2307e",
   "metadata": {},
   "source": [
    "# 9. Python code to demonstrate the working of quantize() and same_quantum()"
   ]
  },
  {
   "cell_type": "code",
   "execution_count": 16,
   "id": "9bc9daa4",
   "metadata": {},
   "outputs": [
    {
     "name": "stdout",
     "output_type": "stream",
     "text": [
      "The quantized first number is : 20.77\n",
      "Both the numbers have same exponent\n"
     ]
    }
   ],
   "source": [
    "\n",
    "# importing \"decimal\" module to use decimal functions\n",
    "import decimal\n",
    "\n",
    "# Initializing decimal number\n",
    "a = decimal.Decimal(20.76548)\n",
    "\n",
    "# Initializing decimal number\n",
    "b = decimal.Decimal(12.25)\n",
    "\n",
    "# Initializing decimal number\n",
    "c = decimal.Decimal(6.25)\n",
    "\n",
    "# printing quantized first number\n",
    "print (\"The quantized first number is : \",end=\"\")\n",
    "print (a.quantize(b))\n",
    "\n",
    "# checking if both number have same exponent\n",
    "if (b.same_quantum(c)):\n",
    "    print (\"Both the numbers have same exponent\")\n",
    "else : print (\"Both numbers have different exponent\")\n"
   ]
  },
  {
   "cell_type": "markdown",
   "id": "199d78b6",
   "metadata": {},
   "source": [
    "# 10.  Python code to demonstrate the working of rotate() and shift()"
   ]
  },
  {
   "cell_type": "code",
   "execution_count": 17,
   "id": "02ff5703",
   "metadata": {},
   "outputs": [
    {
     "name": "stdout",
     "output_type": "stream",
     "text": [
      "The rotated value is : 6523435093940294242343345634\n",
      "The shifted value is : 4350939402942423433456346500\n"
     ]
    }
   ],
   "source": [
    "# importing \"decimal\" module to use decimal functions\n",
    "import decimal\n",
    "\n",
    "# Initializing decimal number\n",
    "a = decimal.Decimal(2343509394029424234334563465)\n",
    "\n",
    "# using rotate() to rotate the first argument\n",
    "# rotates to right by 2 positions\n",
    "print (\"The rotated value is : \",end=\"\")\n",
    "print (a.rotate(-2))\n",
    "\n",
    "# using shift() to shift the first argument\n",
    "# rotates to left by 2 positions\n",
    "print (\"The shifted value is : \",end=\"\")\n",
    "print (a.shift(2))\n"
   ]
  },
  {
   "cell_type": "markdown",
   "id": "e18a95b2",
   "metadata": {},
   "source": [
    "# 11 Python code to demonstrate the working of remainder_near() and scaleb()"
   ]
  },
  {
   "cell_type": "code",
   "execution_count": 18,
   "id": "e80a2bea",
   "metadata": {},
   "outputs": [
    {
     "name": "stdout",
     "output_type": "stream",
     "text": [
      "The computed value using remainder_near() is : -4\n",
      "The value after shifting exponent : 2376.500000000000056843418861\n"
     ]
    }
   ],
   "source": [
    "# importing \"decimal\" module to use decimal functions\n",
    "import decimal\n",
    "\n",
    "# Initializing decimal number\n",
    "a = decimal.Decimal(23.765)\n",
    "\n",
    "# Initializing decimal number\n",
    "b = decimal.Decimal(12)\n",
    "\n",
    "# Initializing decimal number\n",
    "c = decimal.Decimal(8)\n",
    "\n",
    "# using remainder_near to compute value\n",
    "print (\"The computed value using remainder_near() is : \",end=\"\")\n",
    "print (b.remainder_near(c))\n",
    "\n",
    "# using scaleb() to shift exponent\n",
    "print (\"The value after shifting exponent : \",end=\"\")\n",
    "print (a.scaleb(2))\n"
   ]
  },
  {
   "cell_type": "markdown",
   "id": "19660891",
   "metadata": {},
   "source": [
    "# 12 Python program to illustrate enumerate function"
   ]
  },
  {
   "cell_type": "code",
   "execution_count": 23,
   "id": "44471d87",
   "metadata": {},
   "outputs": [
    {
     "name": "stdout",
     "output_type": "stream",
     "text": [
      "Return type: <class 'enumerate'>\n",
      "[(0, 'eat'), (1, 'sleep'), (2, 'repeat')]\n",
      "[(2, 'g'), (3, 'e'), (4, 'e'), (5, 'k')]\n"
     ]
    }
   ],
   "source": [
    "l1 = [\"eat\", \"sleep\", \"repeat\"]\n",
    "s1 = \"geek\"\n",
    "\n",
    "# creating enumerate objects\n",
    "obj1 = enumerate(l1)\n",
    "obj2 = enumerate(s1)\n",
    "\n",
    "print (\"Return type:\", type(obj1))\n",
    "print (list(enumerate(l1)))\n",
    "\n",
    "# changing start index to 2 from 0\n",
    "print (list(enumerate(s1, 2)))\n"
   ]
  },
  {
   "cell_type": "code",
   "execution_count": null,
   "id": "853e16a4",
   "metadata": {},
   "outputs": [],
   "source": []
  },
  {
   "cell_type": "code",
   "execution_count": null,
   "id": "3bdc282c",
   "metadata": {},
   "outputs": [],
   "source": []
  }
 ],
 "metadata": {
  "kernelspec": {
   "display_name": "Python 3 (ipykernel)",
   "language": "python",
   "name": "python3"
  },
  "language_info": {
   "codemirror_mode": {
    "name": "ipython",
    "version": 3
   },
   "file_extension": ".py",
   "mimetype": "text/x-python",
   "name": "python",
   "nbconvert_exporter": "python",
   "pygments_lexer": "ipython3",
   "version": "3.9.12"
  }
 },
 "nbformat": 4,
 "nbformat_minor": 5
}
